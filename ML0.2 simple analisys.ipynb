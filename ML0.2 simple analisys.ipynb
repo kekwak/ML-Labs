{
 "cells": [
  {
   "cell_type": "markdown",
   "metadata": {},
   "source": [
    "# Таратин Артём ПМ22-1 Вариант 1"
   ]
  },
  {
   "cell_type": "code",
   "execution_count": 368,
   "metadata": {},
   "outputs": [],
   "source": [
    "import requests\n",
    "from io import BytesIO\n",
    "\n",
    "import matplotlib.pyplot as plt\n",
    "import seaborn as sns\n",
    "\n",
    "import re\n",
    "\n",
    "import pandas as pd\n",
    "import numpy as np"
   ]
  },
  {
   "cell_type": "markdown",
   "metadata": {},
   "source": [
    "1. Загрузите данные по вариантам в ноутбук."
   ]
  },
  {
   "cell_type": "code",
   "execution_count": 392,
   "metadata": {},
   "outputs": [
    {
     "data": {
      "text/html": [
       "<div>\n",
       "<style scoped>\n",
       "    .dataframe tbody tr th:only-of-type {\n",
       "        vertical-align: middle;\n",
       "    }\n",
       "\n",
       "    .dataframe tbody tr th {\n",
       "        vertical-align: top;\n",
       "    }\n",
       "\n",
       "    .dataframe thead th {\n",
       "        text-align: right;\n",
       "    }\n",
       "</style>\n",
       "<table border=\"1\" class=\"dataframe\">\n",
       "  <thead>\n",
       "    <tr style=\"text-align: right;\">\n",
       "      <th></th>\n",
       "      <th>№ школы</th>\n",
       "      <th>Класс</th>\n",
       "      <th>Пол</th>\n",
       "      <th>Номер варианта</th>\n",
       "      <th>Задания с кратким ответом</th>\n",
       "      <th>Задания с развёрнутым ответом</th>\n",
       "      <th>Устная часть</th>\n",
       "      <th>Первичный балл</th>\n",
       "      <th>Балл</th>\n",
       "      <th>Минимальный балл</th>\n",
       "    </tr>\n",
       "    <tr>\n",
       "      <th>№</th>\n",
       "      <th></th>\n",
       "      <th></th>\n",
       "      <th></th>\n",
       "      <th></th>\n",
       "      <th></th>\n",
       "      <th></th>\n",
       "      <th></th>\n",
       "      <th></th>\n",
       "      <th></th>\n",
       "      <th></th>\n",
       "    </tr>\n",
       "  </thead>\n",
       "  <tbody>\n",
       "    <tr>\n",
       "      <th>1.0</th>\n",
       "      <td>117.0</td>\n",
       "      <td>11</td>\n",
       "      <td>М</td>\n",
       "      <td>341.0</td>\n",
       "      <td>1+++--1+-++---0---------0</td>\n",
       "      <td>0(1)0(3)0(1)0(3)0(2)0(2)0(3)0(3)0(2)0(2)0(1)0(1)</td>\n",
       "      <td>NaN</td>\n",
       "      <td>8.0</td>\n",
       "      <td>20.0</td>\n",
       "      <td>24.0</td>\n",
       "    </tr>\n",
       "    <tr>\n",
       "      <th>2.0</th>\n",
       "      <td>148.0</td>\n",
       "      <td>12А</td>\n",
       "      <td>М</td>\n",
       "      <td>338.0</td>\n",
       "      <td>1+---+0--+---+0----++-+-0</td>\n",
       "      <td>0(1)0(3)0(1)0(3)0(2)0(2)0(3)0(3)0(2)0(2)0(1)0(1)</td>\n",
       "      <td>NaN</td>\n",
       "      <td>8.0</td>\n",
       "      <td>20.0</td>\n",
       "      <td>24.0</td>\n",
       "    </tr>\n",
       "    <tr>\n",
       "      <th>3.0</th>\n",
       "      <td>152.0</td>\n",
       "      <td>13</td>\n",
       "      <td>Ж</td>\n",
       "      <td>104.0</td>\n",
       "      <td>2-----0--+----1---------1</td>\n",
       "      <td>0(1)0(3)0(1)0(3)0(2)0(2)0(3)1(3)0(2)1(2)1(1)1(1)</td>\n",
       "      <td>NaN</td>\n",
       "      <td>9.0</td>\n",
       "      <td>22.0</td>\n",
       "      <td>24.0</td>\n",
       "    </tr>\n",
       "    <tr>\n",
       "      <th>4.0</th>\n",
       "      <td>152.0</td>\n",
       "      <td>13</td>\n",
       "      <td>М</td>\n",
       "      <td>104.0</td>\n",
       "      <td>1+--+-0++-----2----++---0</td>\n",
       "      <td>0(1)0(3)0(1)0(3)0(2)0(2)0(3)0(3)0(2)0(2)0(1)0(1)</td>\n",
       "      <td>NaN</td>\n",
       "      <td>9.0</td>\n",
       "      <td>22.0</td>\n",
       "      <td>24.0</td>\n",
       "    </tr>\n",
       "    <tr>\n",
       "      <th>5.0</th>\n",
       "      <td>132.0</td>\n",
       "      <td>11</td>\n",
       "      <td>М</td>\n",
       "      <td>337.0</td>\n",
       "      <td>1++---0-+++---1----+----2</td>\n",
       "      <td>0(1)0(3)0(1)0(3)0(2)0(2)0(3)0(3)0(2)0(2)0(1)0(1)</td>\n",
       "      <td>NaN</td>\n",
       "      <td>10.0</td>\n",
       "      <td>24.0</td>\n",
       "      <td>24.0</td>\n",
       "    </tr>\n",
       "  </tbody>\n",
       "</table>\n",
       "</div>"
      ],
      "text/plain": [
       "     № школы Класс Пол  Номер варианта  Задания с кратким ответом  \\\n",
       "№                                                                   \n",
       "1.0    117.0    11   М           341.0  1+++--1+-++---0---------0   \n",
       "2.0    148.0   12А   М           338.0  1+---+0--+---+0----++-+-0   \n",
       "3.0    152.0    13   Ж           104.0  2-----0--+----1---------1   \n",
       "4.0    152.0    13   М           104.0  1+--+-0++-----2----++---0   \n",
       "5.0    132.0    11   М           337.0  1++---0-+++---1----+----2   \n",
       "\n",
       "                        Задания с развёрнутым ответом Устная часть  \\\n",
       "№                                                                    \n",
       "1.0  0(1)0(3)0(1)0(3)0(2)0(2)0(3)0(3)0(2)0(2)0(1)0(1)          NaN   \n",
       "2.0  0(1)0(3)0(1)0(3)0(2)0(2)0(3)0(3)0(2)0(2)0(1)0(1)          NaN   \n",
       "3.0  0(1)0(3)0(1)0(3)0(2)0(2)0(3)1(3)0(2)1(2)1(1)1(1)          NaN   \n",
       "4.0  0(1)0(3)0(1)0(3)0(2)0(2)0(3)0(3)0(2)0(2)0(1)0(1)          NaN   \n",
       "5.0  0(1)0(3)0(1)0(3)0(2)0(2)0(3)0(3)0(2)0(2)0(1)0(1)          NaN   \n",
       "\n",
       "     Первичный балл  Балл  Минимальный балл  \n",
       "№                                            \n",
       "1.0             8.0  20.0              24.0  \n",
       "2.0             8.0  20.0              24.0  \n",
       "3.0             9.0  22.0              24.0  \n",
       "4.0             9.0  22.0              24.0  \n",
       "5.0            10.0  24.0              24.0  "
      ]
     },
     "execution_count": 392,
     "metadata": {},
     "output_type": "execute_result"
    }
   ],
   "source": [
    "url = 'https://github.com//koroteevmv/ML_course/raw/2023_new/ML0.2 simple analisys/data/Вариант 1.xlsx'\n",
    "file_contents = requests.get(url).content\n",
    "df = pd.read_excel(BytesIO(file_contents), index_col=0, header=2)\n",
    "df.head()"
   ]
  },
  {
   "cell_type": "markdown",
   "metadata": {},
   "source": [
    "2. Сделайте описательную статистику полученных данных."
   ]
  },
  {
   "cell_type": "code",
   "execution_count": 3,
   "metadata": {},
   "outputs": [
    {
     "data": {
      "text/plain": [
       "(3049, 10)"
      ]
     },
     "execution_count": 3,
     "metadata": {},
     "output_type": "execute_result"
    }
   ],
   "source": [
    "df.shape"
   ]
  },
  {
   "cell_type": "code",
   "execution_count": 4,
   "metadata": {},
   "outputs": [
    {
     "data": {
      "text/html": [
       "<div>\n",
       "<style scoped>\n",
       "    .dataframe tbody tr th:only-of-type {\n",
       "        vertical-align: middle;\n",
       "    }\n",
       "\n",
       "    .dataframe tbody tr th {\n",
       "        vertical-align: top;\n",
       "    }\n",
       "\n",
       "    .dataframe thead th {\n",
       "        text-align: right;\n",
       "    }\n",
       "</style>\n",
       "<table border=\"1\" class=\"dataframe\">\n",
       "  <thead>\n",
       "    <tr style=\"text-align: right;\">\n",
       "      <th></th>\n",
       "      <th>№ школы</th>\n",
       "      <th>Номер варианта</th>\n",
       "      <th>Первичный балл</th>\n",
       "      <th>Балл</th>\n",
       "      <th>Минимальный балл</th>\n",
       "    </tr>\n",
       "  </thead>\n",
       "  <tbody>\n",
       "    <tr>\n",
       "      <th>count</th>\n",
       "      <td>3048.000000</td>\n",
       "      <td>3048.000000</td>\n",
       "      <td>3048.000000</td>\n",
       "      <td>3049.000000</td>\n",
       "      <td>3048.0</td>\n",
       "    </tr>\n",
       "    <tr>\n",
       "      <th>mean</th>\n",
       "      <td>138.753281</td>\n",
       "      <td>340.787730</td>\n",
       "      <td>43.573491</td>\n",
       "      <td>72.769029</td>\n",
       "      <td>24.0</td>\n",
       "    </tr>\n",
       "    <tr>\n",
       "      <th>std</th>\n",
       "      <td>41.793413</td>\n",
       "      <td>39.077186</td>\n",
       "      <td>8.931816</td>\n",
       "      <td>13.662666</td>\n",
       "      <td>0.0</td>\n",
       "    </tr>\n",
       "    <tr>\n",
       "      <th>min</th>\n",
       "      <td>104.000000</td>\n",
       "      <td>101.000000</td>\n",
       "      <td>8.000000</td>\n",
       "      <td>20.000000</td>\n",
       "      <td>24.0</td>\n",
       "    </tr>\n",
       "    <tr>\n",
       "      <th>25%</th>\n",
       "      <td>126.000000</td>\n",
       "      <td>339.000000</td>\n",
       "      <td>38.000000</td>\n",
       "      <td>64.000000</td>\n",
       "      <td>24.0</td>\n",
       "    </tr>\n",
       "    <tr>\n",
       "      <th>50%</th>\n",
       "      <td>144.000000</td>\n",
       "      <td>342.000000</td>\n",
       "      <td>45.000000</td>\n",
       "      <td>72.000000</td>\n",
       "      <td>24.0</td>\n",
       "    </tr>\n",
       "    <tr>\n",
       "      <th>75%</th>\n",
       "      <td>148.000000</td>\n",
       "      <td>346.000000</td>\n",
       "      <td>50.000000</td>\n",
       "      <td>82.000000</td>\n",
       "      <td>24.0</td>\n",
       "    </tr>\n",
       "    <tr>\n",
       "      <th>max</th>\n",
       "      <td>1106.000000</td>\n",
       "      <td>706.000000</td>\n",
       "      <td>58.000000</td>\n",
       "      <td>100.000000</td>\n",
       "      <td>24.0</td>\n",
       "    </tr>\n",
       "  </tbody>\n",
       "</table>\n",
       "</div>"
      ],
      "text/plain": [
       "           № школы  Номер варианта  Первичный балл         Балл  \\\n",
       "count  3048.000000     3048.000000     3048.000000  3049.000000   \n",
       "mean    138.753281      340.787730       43.573491    72.769029   \n",
       "std      41.793413       39.077186        8.931816    13.662666   \n",
       "min     104.000000      101.000000        8.000000    20.000000   \n",
       "25%     126.000000      339.000000       38.000000    64.000000   \n",
       "50%     144.000000      342.000000       45.000000    72.000000   \n",
       "75%     148.000000      346.000000       50.000000    82.000000   \n",
       "max    1106.000000      706.000000       58.000000   100.000000   \n",
       "\n",
       "       Минимальный балл  \n",
       "count            3048.0  \n",
       "mean               24.0  \n",
       "std                 0.0  \n",
       "min                24.0  \n",
       "25%                24.0  \n",
       "50%                24.0  \n",
       "75%                24.0  \n",
       "max                24.0  "
      ]
     },
     "execution_count": 4,
     "metadata": {},
     "output_type": "execute_result"
    }
   ],
   "source": [
    "df.describe()"
   ]
  },
  {
   "cell_type": "code",
   "execution_count": 5,
   "metadata": {},
   "outputs": [
    {
     "name": "stdout",
     "output_type": "stream",
     "text": [
      "<class 'pandas.core.frame.DataFrame'>\n",
      "Index: 3049 entries, 1.0 to nan\n",
      "Data columns (total 10 columns):\n",
      " #   Column                         Non-Null Count  Dtype  \n",
      "---  ------                         --------------  -----  \n",
      " 0   № школы                        3048 non-null   float64\n",
      " 1   Класс                          3048 non-null   object \n",
      " 2   Пол                            3048 non-null   object \n",
      " 3   Номер варианта                 3048 non-null   float64\n",
      " 4   Задания с кратким ответом      3048 non-null   object \n",
      " 5   Задания с развёрнутым ответом  3048 non-null   object \n",
      " 6   Устная часть                   1 non-null      object \n",
      " 7   Первичный балл                 3048 non-null   float64\n",
      " 8   Балл                           3049 non-null   float64\n",
      " 9   Минимальный балл               3048 non-null   float64\n",
      "dtypes: float64(5), object(5)\n",
      "memory usage: 262.0+ KB\n"
     ]
    }
   ],
   "source": [
    "df.info()"
   ]
  },
  {
   "cell_type": "code",
   "execution_count": 6,
   "metadata": {},
   "outputs": [
    {
     "data": {
      "text/plain": [
       "№ школы                          float64\n",
       "Класс                             object\n",
       "Пол                               object\n",
       "Номер варианта                   float64\n",
       "Задания с кратким ответом         object\n",
       "Задания с развёрнутым ответом     object\n",
       "Устная часть                      object\n",
       "Первичный балл                   float64\n",
       "Балл                             float64\n",
       "Минимальный балл                 float64\n",
       "dtype: object"
      ]
     },
     "execution_count": 6,
     "metadata": {},
     "output_type": "execute_result"
    }
   ],
   "source": [
    "df.dtypes"
   ]
  },
  {
   "cell_type": "markdown",
   "metadata": {},
   "source": [
    "3. Найдите процент учащихся, выполнивших работу ниже среднего."
   ]
  },
  {
   "cell_type": "code",
   "execution_count": 7,
   "metadata": {},
   "outputs": [
    {
     "name": "stdout",
     "output_type": "stream",
     "text": [
      "Процент учащихся, выполнивших работу ниже среднего: 51.262709%\n"
     ]
    }
   ],
   "source": [
    "below_mean_percent = len(df[df['Балл'] < df['Балл'].mean()]) / len(df) * 100\n",
    "print(f\"Процент учащихся, выполнивших работу ниже среднего: {below_mean_percent:.6f}%\")"
   ]
  },
  {
   "cell_type": "markdown",
   "metadata": {},
   "source": [
    "4. Найти процент учащихся не сдавших экзамен."
   ]
  },
  {
   "cell_type": "code",
   "execution_count": 8,
   "metadata": {},
   "outputs": [
    {
     "name": "stdout",
     "output_type": "stream",
     "text": [
      "Процент учащихся, не сдавших экзамен (Балл): 0.131191%\n"
     ]
    }
   ],
   "source": [
    "not_pass_percent = len(df[df['Балл'] < df['Минимальный балл']]) / len(df) * 100\n",
    "print(f\"Процент учащихся, не сдавших экзамен (Балл): {not_pass_percent:.6f}%\")"
   ]
  },
  {
   "cell_type": "code",
   "execution_count": 9,
   "metadata": {},
   "outputs": [
    {
     "name": "stdout",
     "output_type": "stream",
     "text": [
      "Процент учащихся, не сдавших экзамен (Первичный балл): 3.017383%\n"
     ]
    }
   ],
   "source": [
    "not_pass_percent = len(df[df['Первичный балл'] < df['Минимальный балл']]) / len(df) * 100\n",
    "print(f\"Процент учащихся, не сдавших экзамен (Первичный балл): {not_pass_percent:.6f}%\")"
   ]
  },
  {
   "cell_type": "markdown",
   "metadata": {},
   "source": [
    "5. Постройте круговую диаграмму, показывающую распределение сдавших и не сдавших экзамен."
   ]
  },
  {
   "cell_type": "code",
   "execution_count": 24,
   "metadata": {},
   "outputs": [
    {
     "data": {
      "text/plain": [
       "<matplotlib.legend.Legend at 0x14fb26620>"
      ]
     },
     "execution_count": 24,
     "metadata": {},
     "output_type": "execute_result"
    },
    {
     "data": {
      "image/png": "[encoded data removed]",
      "text/plain": [
       "<Figure size 640x480 with 1 Axes>"
      ]
     },
     "metadata": {},
     "output_type": "display_data"
    }
   ],
   "source": [
    "grouped = df.groupby(df['Первичный балл'] < df['Минимальный балл']).size().rename({True: 'Провалили', False: 'Сдали'})\n",
    "grouped.plot(kind='pie', autopct='%1.4f%%')\n",
    "plt.legend(['Сдали', 'Провалили'])"
   ]
  },
  {
   "cell_type": "markdown",
   "metadata": {},
   "source": [
    "6. Постройте ядерную оценку плотности распределению баллов за экзамен."
   ]
  },
  {
   "cell_type": "code",
   "execution_count": 11,
   "metadata": {},
   "outputs": [
    {
     "name": "stderr",
     "output_type": "stream",
     "text": [
      "/Library/Frameworks/Python.framework/Versions/3.10/lib/python3.10/site-packages/seaborn/_oldcore.py:1498: FutureWarning: is_categorical_dtype is deprecated and will be removed in a future version. Use isinstance(dtype, CategoricalDtype) instead\n",
      "  if pd.api.types.is_categorical_dtype(vector):\n",
      "/Library/Frameworks/Python.framework/Versions/3.10/lib/python3.10/site-packages/seaborn/_oldcore.py:1119: FutureWarning: use_inf_as_na option is deprecated and will be removed in a future version. Convert inf values to NaN before operating instead.\n",
      "  with pd.option_context('mode.use_inf_as_na', True):\n"
     ]
    },
    {
     "data": {
      "image/png": "[encoded data removed]",
      "text/plain": [
       "<Figure size 640x480 with 1 Axes>"
      ]
     },
     "metadata": {},
     "output_type": "display_data"
    }
   ],
   "source": [
    "sns.kdeplot(df['Балл'])\n",
    "\n",
    "plt.grid(True)\n",
    "\n",
    "plt.show()"
   ]
  },
  {
   "cell_type": "markdown",
   "metadata": {},
   "source": [
    "7. Найдите процентное соотношение учащихся, сдавших экзамен на «отлично», «хорошо», «удовлетворительно», «неудовлетворительно»."
   ]
  },
  {
   "cell_type": "code",
   "execution_count": 402,
   "metadata": {},
   "outputs": [],
   "source": [
    "marks_grouped = df.groupby('Балл').size()\n",
    "\n",
    "mark_2 = marks_grouped.where(marks_grouped.index < 50).sum()\n",
    "mark_3 = marks_grouped.where((50 <= marks_grouped.values) & (marks_grouped.index < 70)).sum()\n",
    "mark_4 = marks_grouped.where((70 <= marks_grouped.index) & (marks_grouped.index < 85)).sum()\n",
    "mark_5 = marks_grouped.where(85 <= marks_grouped.index).sum()"
   ]
  },
  {
   "cell_type": "code",
   "execution_count": 403,
   "metadata": {},
   "outputs": [
    {
     "data": {
      "image/png": "[encoded data removed]",
      "text/plain": [
       "<Figure size 640x480 with 1 Axes>"
      ]
     },
     "metadata": {},
     "output_type": "display_data"
    }
   ],
   "source": [
    "labels = ['Оценка 2', 'Оценка 3', 'Оценка 4', 'Оценка 5']\n",
    "plt.pie([mark_2, mark_3, mark_4, mark_5], autopct='%1.2f%%', labels=labels)\n",
    "plt.legend(labels, loc='upper left')\n",
    "plt.show()"
   ]
  },
  {
   "cell_type": "code",
   "execution_count": 387,
   "metadata": {},
   "outputs": [
    {
     "name": "stdout",
     "output_type": "stream",
     "text": [
      "Процент учащихся, сдавших экзамен на отлично: 24.63%\n",
      "Процент учащихся, сдавших экзамен на хорошо: 36.27%\n",
      "Процент учащихся, сдавших экзамен на удовлетворительно: 34.31%\n",
      "Процент учащихся, сдавших экзамен на неудовлетворительно: 4.79%\n"
     ]
    }
   ],
   "source": [
    "perc_mark_2 = (mark_2 / len(df)) * 100\n",
    "perc_mark_3 = (mark_3 / len(df)) * 100\n",
    "perc_mark_4 = (mark_4 / len(df)) * 100\n",
    "perc_mark_5 = (mark_5 / len(df)) * 100\n",
    "\n",
    "print(f'Процент учащихся, сдавших экзамен на отлично: {perc_mark_5:.2f}%')\n",
    "print(f'Процент учащихся, сдавших экзамен на хорошо: {perc_mark_4:.2f}%')\n",
    "print(f'Процент учащихся, сдавших экзамен на удовлетворительно: {perc_mark_3:.2f}%')\n",
    "print(f'Процент учащихся, сдавших экзамен на неудовлетворительно: {perc_mark_2:.2f}%')"
   ]
  },
  {
   "cell_type": "markdown",
   "metadata": {},
   "source": [
    "8. Какое процентное соотношение юношей и девушек писало данный экзамен?"
   ]
  },
  {
   "cell_type": "code",
   "execution_count": 93,
   "metadata": {},
   "outputs": [
    {
     "data": {
      "text/plain": [
       "Пол\n",
       "Ж    57.953427\n",
       "М    42.013775\n",
       "dtype: float64"
      ]
     },
     "execution_count": 93,
     "metadata": {},
     "output_type": "execute_result"
    }
   ],
   "source": [
    "df.groupby('Пол').size() / len(df) * 100"
   ]
  },
  {
   "cell_type": "markdown",
   "metadata": {},
   "source": [
    "9. Сколько школ принимало участие в экзамене?"
   ]
  },
  {
   "cell_type": "code",
   "execution_count": 108,
   "metadata": {},
   "outputs": [
    {
     "data": {
      "text/plain": [
       "25"
      ]
     },
     "execution_count": 108,
     "metadata": {},
     "output_type": "execute_result"
    }
   ],
   "source": [
    "pd.unique(df['№ школы']).size"
   ]
  },
  {
   "cell_type": "code",
   "execution_count": 109,
   "metadata": {},
   "outputs": [
    {
     "data": {
      "text/plain": [
       "25"
      ]
     },
     "execution_count": 109,
     "metadata": {},
     "output_type": "execute_result"
    }
   ],
   "source": [
    "len(set(df['№ школы']))"
   ]
  },
  {
   "cell_type": "markdown",
   "metadata": {},
   "source": [
    "10. Сколько всего заданий с кратким ответом? С развернутым ответом?"
   ]
  },
  {
   "cell_type": "code",
   "execution_count": 144,
   "metadata": {},
   "outputs": [
    {
     "data": {
      "text/plain": [
       "('1+++--1+-++---0---------0', 25)"
      ]
     },
     "execution_count": 144,
     "metadata": {},
     "output_type": "execute_result"
    }
   ],
   "source": [
    "marks_short = df['Задания с кратким ответом'].iloc[0]\n",
    "marks_short, len(marks_short)"
   ]
  },
  {
   "cell_type": "code",
   "execution_count": 145,
   "metadata": {},
   "outputs": [
    {
     "data": {
      "text/plain": [
       "('000000000000', 12)"
      ]
     },
     "execution_count": 145,
     "metadata": {},
     "output_type": "execute_result"
    }
   ],
   "source": [
    "marks_long = re.sub(r'\\(\\d\\)', '', df['Задания с развёрнутым ответом'].iloc[0])\n",
    "marks_long, len(marks_long)"
   ]
  },
  {
   "cell_type": "markdown",
   "metadata": {},
   "source": [
    "11. Пусть задания с кратким ответом будут задания типа В. Соответственно всего по экзамену вопросов класса В: В, ... Вк Посчитайте процент выполненных и невыполненных заданий по каждому вопросу класса В."
   ]
  },
  {
   "cell_type": "code",
   "execution_count": 371,
   "metadata": {},
   "outputs": [],
   "source": [
    "tasks = {i:[] for i in range(25)}\n",
    "\n",
    "for i in df['Задания с кратким ответом']:\n",
    "    if not isinstance(i, str):\n",
    "        continue\n",
    "    \n",
    "    for j in range(len(i)):\n",
    "        tasks[j].append(i[j])"
   ]
  },
  {
   "cell_type": "code",
   "execution_count": 372,
   "metadata": {},
   "outputs": [
    {
     "name": "stdout",
     "output_type": "stream",
     "text": [
      "0 0.9019028871391076\n",
      "1 0.9288057742782152\n",
      "2 0.8733595800524935\n",
      "3 0.7729658792650919\n",
      "4 0.5895669291338582\n",
      "5 0.9061679790026247\n",
      "6 0.7658792650918635\n",
      "7 0.7559055118110236\n",
      "8 0.8412073490813649\n",
      "9 0.9688320209973753\n",
      "10 0.931758530183727\n",
      "11 0.755249343832021\n",
      "12 0.8313648293963255\n",
      "13 0.7017716535433071\n",
      "14 0.8700787401574803\n",
      "15 0.6896325459317585\n",
      "16 0.672244094488189\n",
      "17 0.7417979002624672\n",
      "18 0.6935695538057742\n",
      "19 0.8274278215223098\n",
      "20 0.718503937007874\n",
      "21 0.4806430446194226\n",
      "22 0.7654199475065617\n",
      "23 0.2477034120734908\n",
      "24 0.8173392388451444\n"
     ]
    }
   ],
   "source": [
    "for i, j in tasks.items():\n",
    "    if j[0].isdigit():\n",
    "        j = list(map(int, j))\n",
    "        print(i, sum(j) / max(j) / len(j))\n",
    "    else:\n",
    "        print(i, j.count('+') / len(j))"
   ]
  },
  {
   "cell_type": "markdown",
   "metadata": {},
   "source": [
    "12. Аналогично и с типом С (ответы с развернутым ответом)"
   ]
  },
  {
   "cell_type": "code",
   "execution_count": 279,
   "metadata": {},
   "outputs": [],
   "source": [
    "tasks = {i:[] for i in range(12)}\n",
    "\n",
    "for i in df['Задания с развёрнутым ответом']:\n",
    "    if not isinstance(i, str):\n",
    "        continue\n",
    "    \n",
    "    i = re.sub(r'\\(\\d\\)', '', i)\n",
    "    \n",
    "    for j in range(len(i)):\n",
    "        tasks[j].append(i[j])"
   ]
  },
  {
   "cell_type": "code",
   "execution_count": 283,
   "metadata": {},
   "outputs": [
    {
     "name": "stdout",
     "output_type": "stream",
     "text": [
      "0 0.96751968503937\n",
      "1 0.7461723534558181\n",
      "2 0.9445538057742782\n",
      "3 0.7970253718285215\n",
      "4 0.818733595800525\n",
      "5 0.6156496062992126\n",
      "6 0.7118328958880139\n",
      "7 0.5543525809273842\n",
      "8 0.5812007874015748\n",
      "9 0.52001312335958\n",
      "10 0.97998687664042\n",
      "11 0.8454724409448819\n"
     ]
    }
   ],
   "source": [
    "for i, j in tasks.items():\n",
    "    if j[0].isdigit():\n",
    "        j = list(map(int, j))\n",
    "        print(i, sum(j) / max(j) / len(j))\n",
    "    else:\n",
    "        print(i, j.count('+') / len(j))"
   ]
  },
  {
   "cell_type": "markdown",
   "metadata": {},
   "source": [
    "13. Сделайте анализ по двум школам:"
   ]
  },
  {
   "cell_type": "markdown",
   "metadata": {},
   "source": [
    "        I. по всем выполненным заданиям типа В"
   ]
  },
  {
   "cell_type": "code",
   "execution_count": 295,
   "metadata": {},
   "outputs": [],
   "source": [
    "school_117 = df[df['№ школы'] == 117]\n",
    "school_148 = df[df['№ школы'] == 148]"
   ]
  },
  {
   "cell_type": "code",
   "execution_count": 300,
   "metadata": {},
   "outputs": [
    {
     "name": "stdout",
     "output_type": "stream",
     "text": [
      "Школа 117: 62.2737\n",
      "Школа 148: 63.2615\n"
     ]
    }
   ],
   "source": [
    "print(f\"Школа 117: {''.join(school_117['Задания с кратким ответом']).count('+') / len(''.join(school_117['Задания с кратким ответом'])) * 100:.4f}\")\n",
    "print(f\"Школа 148: {''.join(school_148['Задания с кратким ответом']).count('+') / len(''.join(school_148['Задания с кратким ответом'])) * 100:.4f}\")"
   ]
  },
  {
   "cell_type": "markdown",
   "metadata": {},
   "source": [
    "        II. по заданиям типа С больше 50%"
   ]
  },
  {
   "cell_type": "code",
   "execution_count": 356,
   "metadata": {},
   "outputs": [
    {
     "name": "stdout",
     "output_type": "stream",
     "text": [
      "0: 6.3158 - 5.2308\n",
      "1: 6.3158 - 7.6923\n",
      "2: 8.4211 - 7.0769\n",
      "3: 10.5263 - 8.3077\n",
      "4: 7.3684 - 5.8462\n",
      "5: 5.2632 - 3.6923\n",
      "6: 10.5263 - 7.3846\n",
      "7: 25.2632 - 18.7692\n",
      "8: 24.2105 - 13.2308\n",
      "9: 23.1579 - 15.3846\n",
      "10: 4.2105 - 3.0769\n",
      "11: 15.7895 - 12.3077\n"
     ]
    }
   ],
   "source": [
    "school_117_replaced = [re.sub(r'\\(\\d\\)', '', i) for i in school_117['Задания с развёрнутым ответом']]\n",
    "school_148_replaced = [re.sub(r'\\(\\d\\)', '', i) for i in school_148['Задания с развёрнутым ответом']]\n",
    "\n",
    "school_117_replaced_zip = zip(*school_117_replaced)\n",
    "school_148_replaced_zip = zip(*school_148_replaced)\n",
    "\n",
    "for i, j in enumerate(zip(school_117_replaced_zip, school_148_replaced_zip)):\n",
    "    print(f\"{i}: {j[0].count('0') / len(j[0]) * 100:.4f} - {j[1].count('0')/ len(j[1]) * 100:.4f}\")"
   ]
  },
  {
   "cell_type": "markdown",
   "metadata": {},
   "source": [
    "        III. по среднему баллу юношей и девушек"
   ]
  },
  {
   "cell_type": "code",
   "execution_count": 367,
   "metadata": {},
   "outputs": [
    {
     "name": "stdout",
     "output_type": "stream",
     "text": [
      "Для 117шк - М: 65.0227 - Ж: 75.6863\n",
      "Для 148шк - М: 68.1667 - Ж: 75.7459\n"
     ]
    }
   ],
   "source": [
    "print(f\"Для 117шк - М: {school_117.where(df['Пол'] == 'М')['Балл'].mean():.4f} - Ж: {school_117.where(df['Пол'] == 'Ж')['Балл'].mean():.4f}\")\n",
    "print(f\"Для 148шк - М: {school_148.where(df['Пол'] == 'М')['Балл'].mean():.4f} - Ж: {school_148.where(df['Пол'] == 'Ж')['Балл'].mean():.4f}\")"
   ]
  }
 ],
 "metadata": {
  "kernelspec": {
   "display_name": "Python 3",
   "language": "python",
   "name": "python3"
  },
  "language_info": {
   "codemirror_mode": {
    "name": "ipython",
    "version": 3
   },
   "file_extension": ".py",
   "mimetype": "text/x-python",
   "name": "python",
   "nbconvert_exporter": "python",
   "pygments_lexer": "ipython3",
   "version": "3.12.2"
  },
  "orig_nbformat": 4
 },
 "nbformat": 4,
 "nbformat_minor": 2
}
