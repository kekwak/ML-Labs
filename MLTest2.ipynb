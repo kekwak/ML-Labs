{
 "cells": [
  {
   "cell_type": "code",
   "execution_count": 1,
   "metadata": {},
   "outputs": [],
   "source": [
    "from sklearn.datasets import fetch_openml\n",
    "from sklearn.model_selection import train_test_split\n",
    "from sklearn.metrics import confusion_matrix, classification_report\n",
    "from sklearn import metrics\n",
    "\n",
    "from sklearn.preprocessing import PolynomialFeatures\n",
    "from sklearn.linear_model import LogisticRegression\n",
    "from sklearn.neural_network import MLPClassifier\n",
    "from sklearn.svm import SVC\n",
    "\n",
    "import numpy as np\n",
    "import pandas as pd\n",
    "\n",
    "import matplotlib.pyplot as plt\n",
    "import seaborn as sns\n",
    "\n",
    "import time"
   ]
  },
  {
   "cell_type": "code",
   "execution_count": 2,
   "metadata": {},
   "outputs": [],
   "source": [
    "import ssl  # магия чтобы fetch_openml сработал\n",
    "ssl._create_default_https_context = ssl._create_unverified_context"
   ]
  },
  {
   "cell_type": "markdown",
   "metadata": {},
   "source": [
    "# <p style=\"color: #6c89c6;\">Работу выполнил: Таратин Артём ПМ22-1<br>Вариант: 13</p>"
   ]
  },
  {
   "cell_type": "code",
   "execution_count": 3,
   "metadata": {},
   "outputs": [
    {
     "data": {
      "text/html": [
       "<div>\n",
       "<style scoped>\n",
       "    .dataframe tbody tr th:only-of-type {\n",
       "        vertical-align: middle;\n",
       "    }\n",
       "\n",
       "    .dataframe tbody tr th {\n",
       "        vertical-align: top;\n",
       "    }\n",
       "\n",
       "    .dataframe thead th {\n",
       "        text-align: right;\n",
       "    }\n",
       "</style>\n",
       "<table border=\"1\" class=\"dataframe\">\n",
       "  <thead>\n",
       "    <tr style=\"text-align: right;\">\n",
       "      <th></th>\n",
       "      <th>Модель</th>\n",
       "      <th>Время</th>\n",
       "      <th>Точнось</th>\n",
       "    </tr>\n",
       "  </thead>\n",
       "  <tbody>\n",
       "  </tbody>\n",
       "</table>\n",
       "</div>"
      ],
      "text/plain": [
       "Empty DataFrame\n",
       "Columns: [Модель, Время, Точнось]\n",
       "Index: []"
      ]
     },
     "execution_count": 3,
     "metadata": {},
     "output_type": "execute_result"
    }
   ],
   "source": [
    "modeles_comp = pd.DataFrame({'Модель': [], 'Время': [], 'Точнось': []})\n",
    "modeles_comp"
   ]
  },
  {
   "cell_type": "markdown",
   "metadata": {},
   "source": [
    "## 1. (1 балл) Загрузите предложенный вам датасет с помощью функции `sklearn.datasets.fetch_openml`. Выведите текстовое описание загруженного датасета. Обозначьте целевую переменную за `y`, а остальные данные за `X`."
   ]
  },
  {
   "cell_type": "code",
   "execution_count": 4,
   "metadata": {},
   "outputs": [
    {
     "name": "stdout",
     "output_type": "stream",
     "text": [
      "**Author**:   \n",
      "**Source**: Unknown - Date unknown  \n",
      "**Please cite**:   \n",
      "\n",
      "DATA-SETS FROM DIGGLE, P.J. (1990). TIME SERIES : A BIOSTATISTICAL\n",
      "INTRODUCTION. Oxford University Press.\n",
      "\n",
      "Table: Table A2 Wool prices\n",
      "\n",
      "\n",
      "Information about the dataset\n",
      "CLASSTYPE: numeric\n",
      "CLASSINDEX: none specific\n",
      "\n",
      "Downloaded from openml.org.\n"
     ]
    }
   ],
   "source": [
    "dataset = fetch_openml('diggle_table_a2', parser='auto', version=1)\n",
    "print(dataset.DESCR)"
   ]
  },
  {
   "cell_type": "code",
   "execution_count": 5,
   "metadata": {},
   "outputs": [
    {
     "data": {
      "text/html": [
       "<div>\n",
       "<style scoped>\n",
       "    .dataframe tbody tr th:only-of-type {\n",
       "        vertical-align: middle;\n",
       "    }\n",
       "\n",
       "    .dataframe tbody tr th {\n",
       "        vertical-align: top;\n",
       "    }\n",
       "\n",
       "    .dataframe thead th {\n",
       "        text-align: right;\n",
       "    }\n",
       "</style>\n",
       "<table border=\"1\" class=\"dataframe\">\n",
       "  <thead>\n",
       "    <tr style=\"text-align: right;\">\n",
       "      <th></th>\n",
       "      <th>y</th>\n",
       "      <th>col_2</th>\n",
       "      <th>col_3</th>\n",
       "      <th>col_4</th>\n",
       "      <th>col_5</th>\n",
       "      <th>col_6</th>\n",
       "      <th>col_7</th>\n",
       "      <th>col_8</th>\n",
       "      <th>col_9</th>\n",
       "    </tr>\n",
       "  </thead>\n",
       "  <tbody>\n",
       "    <tr>\n",
       "      <th>0</th>\n",
       "      <td>76</td>\n",
       "      <td>33</td>\n",
       "      <td>33</td>\n",
       "      <td>262.0</td>\n",
       "      <td>307.0</td>\n",
       "      <td>1.1718</td>\n",
       "      <td>5.5683</td>\n",
       "      <td>5.7268</td>\n",
       "      <td>0.1585</td>\n",
       "    </tr>\n",
       "    <tr>\n",
       "      <th>1</th>\n",
       "      <td>76</td>\n",
       "      <td>34</td>\n",
       "      <td>34</td>\n",
       "      <td>259.0</td>\n",
       "      <td>306.0</td>\n",
       "      <td>1.1815</td>\n",
       "      <td>5.5568</td>\n",
       "      <td>5.7236</td>\n",
       "      <td>0.1668</td>\n",
       "    </tr>\n",
       "    <tr>\n",
       "      <th>2</th>\n",
       "      <td>76</td>\n",
       "      <td>35</td>\n",
       "      <td>35</td>\n",
       "      <td>257.0</td>\n",
       "      <td>306.0</td>\n",
       "      <td>1.1907</td>\n",
       "      <td>5.5491</td>\n",
       "      <td>5.7236</td>\n",
       "      <td>0.1745</td>\n",
       "    </tr>\n",
       "    <tr>\n",
       "      <th>3</th>\n",
       "      <td>76</td>\n",
       "      <td>36</td>\n",
       "      <td>36</td>\n",
       "      <td>262.0</td>\n",
       "      <td>306.0</td>\n",
       "      <td>1.1679</td>\n",
       "      <td>5.5683</td>\n",
       "      <td>5.7236</td>\n",
       "      <td>0.1553</td>\n",
       "    </tr>\n",
       "    <tr>\n",
       "      <th>4</th>\n",
       "      <td>76</td>\n",
       "      <td>37</td>\n",
       "      <td>37</td>\n",
       "      <td>264.0</td>\n",
       "      <td>306.0</td>\n",
       "      <td>1.1591</td>\n",
       "      <td>5.5759</td>\n",
       "      <td>5.7236</td>\n",
       "      <td>0.1477</td>\n",
       "    </tr>\n",
       "    <tr>\n",
       "      <th>...</th>\n",
       "      <td>...</td>\n",
       "      <td>...</td>\n",
       "      <td>...</td>\n",
       "      <td>...</td>\n",
       "      <td>...</td>\n",
       "      <td>...</td>\n",
       "      <td>...</td>\n",
       "      <td>...</td>\n",
       "      <td>...</td>\n",
       "    </tr>\n",
       "    <tr>\n",
       "      <th>305</th>\n",
       "      <td>84</td>\n",
       "      <td>20</td>\n",
       "      <td>436</td>\n",
       "      <td>495.0</td>\n",
       "      <td>786.0</td>\n",
       "      <td>1.5879</td>\n",
       "      <td>6.2046</td>\n",
       "      <td>6.6670</td>\n",
       "      <td>0.4624</td>\n",
       "    </tr>\n",
       "    <tr>\n",
       "      <th>306</th>\n",
       "      <td>84</td>\n",
       "      <td>21</td>\n",
       "      <td>437</td>\n",
       "      <td>495.0</td>\n",
       "      <td>786.0</td>\n",
       "      <td>1.5879</td>\n",
       "      <td>6.2046</td>\n",
       "      <td>6.6670</td>\n",
       "      <td>0.4624</td>\n",
       "    </tr>\n",
       "    <tr>\n",
       "      <th>307</th>\n",
       "      <td>84</td>\n",
       "      <td>22</td>\n",
       "      <td>438</td>\n",
       "      <td>497.0</td>\n",
       "      <td>786.0</td>\n",
       "      <td>1.5815</td>\n",
       "      <td>6.2086</td>\n",
       "      <td>6.6670</td>\n",
       "      <td>0.4584</td>\n",
       "    </tr>\n",
       "    <tr>\n",
       "      <th>308</th>\n",
       "      <td>84</td>\n",
       "      <td>25</td>\n",
       "      <td>441</td>\n",
       "      <td>496.0</td>\n",
       "      <td>786.0</td>\n",
       "      <td>1.5847</td>\n",
       "      <td>6.2066</td>\n",
       "      <td>6.6670</td>\n",
       "      <td>0.4604</td>\n",
       "    </tr>\n",
       "    <tr>\n",
       "      <th>309</th>\n",
       "      <td>84</td>\n",
       "      <td>26</td>\n",
       "      <td>442</td>\n",
       "      <td>499.0</td>\n",
       "      <td>786.0</td>\n",
       "      <td>1.5752</td>\n",
       "      <td>6.2126</td>\n",
       "      <td>6.6670</td>\n",
       "      <td>0.4544</td>\n",
       "    </tr>\n",
       "  </tbody>\n",
       "</table>\n",
       "<p>310 rows × 9 columns</p>\n",
       "</div>"
      ],
      "text/plain": [
       "      y  col_2  col_3  col_4  col_5   col_6   col_7   col_8   col_9\n",
       "0    76     33     33  262.0  307.0  1.1718  5.5683  5.7268  0.1585\n",
       "1    76     34     34  259.0  306.0  1.1815  5.5568  5.7236  0.1668\n",
       "2    76     35     35  257.0  306.0  1.1907  5.5491  5.7236  0.1745\n",
       "3    76     36     36  262.0  306.0  1.1679  5.5683  5.7236  0.1553\n",
       "4    76     37     37  264.0  306.0  1.1591  5.5759  5.7236  0.1477\n",
       "..   ..    ...    ...    ...    ...     ...     ...     ...     ...\n",
       "305  84     20    436  495.0  786.0  1.5879  6.2046  6.6670  0.4624\n",
       "306  84     21    437  495.0  786.0  1.5879  6.2046  6.6670  0.4624\n",
       "307  84     22    438  497.0  786.0  1.5815  6.2086  6.6670  0.4584\n",
       "308  84     25    441  496.0  786.0  1.5847  6.2066  6.6670  0.4604\n",
       "309  84     26    442  499.0  786.0  1.5752  6.2126  6.6670  0.4544\n",
       "\n",
       "[310 rows x 9 columns]"
      ]
     },
     "execution_count": 5,
     "metadata": {},
     "output_type": "execute_result"
    }
   ],
   "source": [
    "dataset_df = pd.DataFrame(dataset.frame)\n",
    "dataset_df.columns = ['y', *dataset_df.columns[1:]]\n",
    "dataset_df"
   ]
  },
  {
   "cell_type": "code",
   "execution_count": 6,
   "metadata": {},
   "outputs": [
    {
     "data": {
      "text/plain": [
       "((310, 8), (310,))"
      ]
     },
     "execution_count": 6,
     "metadata": {},
     "output_type": "execute_result"
    }
   ],
   "source": [
    "X = dataset_df.iloc[:, 1:]\n",
    "y = dataset_df.iloc[:, 0]\n",
    "X.shape, y.shape"
   ]
  },
  {
   "cell_type": "markdown",
   "metadata": {},
   "source": [
    "## 2. (1 балл) Выведите основную статистическую информацию о данных. Сделайте количественное описание датасета: число строк (объектов), число столбцов (признаков), статистику по признакам, количество классов (значений целевой переменной)."
   ]
  },
  {
   "cell_type": "code",
   "execution_count": 7,
   "metadata": {},
   "outputs": [
    {
     "data": {
      "text/plain": [
       "((310, 9), (310, 8), (310,))"
      ]
     },
     "execution_count": 7,
     "metadata": {},
     "output_type": "execute_result"
    }
   ],
   "source": [
    "dataset_df.shape, X.shape, y.shape"
   ]
  },
  {
   "cell_type": "code",
   "execution_count": 8,
   "metadata": {},
   "outputs": [
    {
     "data": {
      "text/html": [
       "<div>\n",
       "<style scoped>\n",
       "    .dataframe tbody tr th:only-of-type {\n",
       "        vertical-align: middle;\n",
       "    }\n",
       "\n",
       "    .dataframe tbody tr th {\n",
       "        vertical-align: top;\n",
       "    }\n",
       "\n",
       "    .dataframe thead th {\n",
       "        text-align: right;\n",
       "    }\n",
       "</style>\n",
       "<table border=\"1\" class=\"dataframe\">\n",
       "  <thead>\n",
       "    <tr style=\"text-align: right;\">\n",
       "      <th></th>\n",
       "      <th>col_2</th>\n",
       "      <th>col_3</th>\n",
       "      <th>col_4</th>\n",
       "      <th>col_5</th>\n",
       "      <th>col_6</th>\n",
       "      <th>col_7</th>\n",
       "      <th>col_8</th>\n",
       "      <th>col_9</th>\n",
       "    </tr>\n",
       "  </thead>\n",
       "  <tbody>\n",
       "    <tr>\n",
       "      <th>count</th>\n",
       "      <td>310.000000</td>\n",
       "      <td>310.000000</td>\n",
       "      <td>310.000000</td>\n",
       "      <td>310.000000</td>\n",
       "      <td>310.000000</td>\n",
       "      <td>310.000000</td>\n",
       "      <td>310.00000</td>\n",
       "      <td>310.000000</td>\n",
       "    </tr>\n",
       "    <tr>\n",
       "      <th>mean</th>\n",
       "      <td>26.587097</td>\n",
       "      <td>234.922581</td>\n",
       "      <td>387.183871</td>\n",
       "      <td>496.103226</td>\n",
       "      <td>1.265265</td>\n",
       "      <td>5.943422</td>\n",
       "      <td>6.17463</td>\n",
       "      <td>0.231207</td>\n",
       "    </tr>\n",
       "    <tr>\n",
       "      <th>std</th>\n",
       "      <td>15.335635</td>\n",
       "      <td>120.804559</td>\n",
       "      <td>66.762306</td>\n",
       "      <td>124.330267</td>\n",
       "      <td>0.116450</td>\n",
       "      <td>0.178233</td>\n",
       "      <td>0.25636</td>\n",
       "      <td>0.089691</td>\n",
       "    </tr>\n",
       "    <tr>\n",
       "      <th>min</th>\n",
       "      <td>2.000000</td>\n",
       "      <td>33.000000</td>\n",
       "      <td>257.000000</td>\n",
       "      <td>306.000000</td>\n",
       "      <td>1.077800</td>\n",
       "      <td>5.549100</td>\n",
       "      <td>5.72360</td>\n",
       "      <td>0.075000</td>\n",
       "    </tr>\n",
       "    <tr>\n",
       "      <th>25%</th>\n",
       "      <td>12.000000</td>\n",
       "      <td>127.250000</td>\n",
       "      <td>316.000000</td>\n",
       "      <td>357.000000</td>\n",
       "      <td>1.155950</td>\n",
       "      <td>5.755700</td>\n",
       "      <td>5.87770</td>\n",
       "      <td>0.144925</td>\n",
       "    </tr>\n",
       "    <tr>\n",
       "      <th>50%</th>\n",
       "      <td>25.000000</td>\n",
       "      <td>233.500000</td>\n",
       "      <td>405.000000</td>\n",
       "      <td>524.000000</td>\n",
       "      <td>1.272000</td>\n",
       "      <td>6.003900</td>\n",
       "      <td>6.26150</td>\n",
       "      <td>0.240550</td>\n",
       "    </tr>\n",
       "    <tr>\n",
       "      <th>75%</th>\n",
       "      <td>41.000000</td>\n",
       "      <td>338.750000</td>\n",
       "      <td>434.500000</td>\n",
       "      <td>576.000000</td>\n",
       "      <td>1.323075</td>\n",
       "      <td>6.074150</td>\n",
       "      <td>6.35610</td>\n",
       "      <td>0.280025</td>\n",
       "    </tr>\n",
       "    <tr>\n",
       "      <th>max</th>\n",
       "      <td>51.000000</td>\n",
       "      <td>442.000000</td>\n",
       "      <td>499.000000</td>\n",
       "      <td>791.000000</td>\n",
       "      <td>1.604500</td>\n",
       "      <td>6.212600</td>\n",
       "      <td>6.67330</td>\n",
       "      <td>0.472800</td>\n",
       "    </tr>\n",
       "  </tbody>\n",
       "</table>\n",
       "</div>"
      ],
      "text/plain": [
       "            col_2       col_3       col_4       col_5       col_6       col_7  \\\n",
       "count  310.000000  310.000000  310.000000  310.000000  310.000000  310.000000   \n",
       "mean    26.587097  234.922581  387.183871  496.103226    1.265265    5.943422   \n",
       "std     15.335635  120.804559   66.762306  124.330267    0.116450    0.178233   \n",
       "min      2.000000   33.000000  257.000000  306.000000    1.077800    5.549100   \n",
       "25%     12.000000  127.250000  316.000000  357.000000    1.155950    5.755700   \n",
       "50%     25.000000  233.500000  405.000000  524.000000    1.272000    6.003900   \n",
       "75%     41.000000  338.750000  434.500000  576.000000    1.323075    6.074150   \n",
       "max     51.000000  442.000000  499.000000  791.000000    1.604500    6.212600   \n",
       "\n",
       "           col_8       col_9  \n",
       "count  310.00000  310.000000  \n",
       "mean     6.17463    0.231207  \n",
       "std      0.25636    0.089691  \n",
       "min      5.72360    0.075000  \n",
       "25%      5.87770    0.144925  \n",
       "50%      6.26150    0.240550  \n",
       "75%      6.35610    0.280025  \n",
       "max      6.67330    0.472800  "
      ]
     },
     "execution_count": 8,
     "metadata": {},
     "output_type": "execute_result"
    }
   ],
   "source": [
    "dataset_df.describe()"
   ]
  },
  {
   "cell_type": "code",
   "execution_count": 9,
   "metadata": {},
   "outputs": [
    {
     "name": "stdout",
     "output_type": "stream",
     "text": [
      "<class 'pandas.core.frame.DataFrame'>\n",
      "RangeIndex: 310 entries, 0 to 309\n",
      "Data columns (total 9 columns):\n",
      " #   Column  Non-Null Count  Dtype   \n",
      "---  ------  --------------  -----   \n",
      " 0   y       310 non-null    category\n",
      " 1   col_2   310 non-null    int64   \n",
      " 2   col_3   310 non-null    int64   \n",
      " 3   col_4   310 non-null    float64 \n",
      " 4   col_5   310 non-null    float64 \n",
      " 5   col_6   310 non-null    float64 \n",
      " 6   col_7   310 non-null    float64 \n",
      " 7   col_8   310 non-null    float64 \n",
      " 8   col_9   310 non-null    float64 \n",
      "dtypes: category(1), float64(6), int64(2)\n",
      "memory usage: 20.2 KB\n"
     ]
    }
   ],
   "source": [
    "dataset_df.info()"
   ]
  },
  {
   "cell_type": "code",
   "execution_count": 10,
   "metadata": {},
   "outputs": [
    {
     "name": "stdout",
     "output_type": "stream",
     "text": [
      "Классы: ['76', '77', '78', '79', '80', '81', '82', '83', '84']\n",
      "Categories (9, object): ['76', '77', '78', '79', ..., '81', '82', '83', '84']\n",
      "Количество: 9\n"
     ]
    }
   ],
   "source": [
    "uq = y.unique()\n",
    "print(f'Классы: {uq}\\nКоличество: {len(uq)}')"
   ]
  },
  {
   "cell_type": "code",
   "execution_count": 11,
   "metadata": {},
   "outputs": [
    {
     "data": {
      "text/plain": [
       "y        category\n",
       "col_2       int64\n",
       "col_3       int64\n",
       "col_4     float64\n",
       "col_5     float64\n",
       "col_6     float64\n",
       "col_7     float64\n",
       "col_8     float64\n",
       "col_9     float64\n",
       "dtype: object"
      ]
     },
     "execution_count": 11,
     "metadata": {},
     "output_type": "execute_result"
    }
   ],
   "source": [
    "dataset_df.dtypes"
   ]
  },
  {
   "cell_type": "markdown",
   "metadata": {},
   "source": [
    "## 3. (1 балл) Убедитесь, что данные пригодны для моделирования. В данных не должно быть пропущенных значений, ве признаки должны быть численными. Если эти условия нарушаются, исправьте это."
   ]
  },
  {
   "cell_type": "code",
   "execution_count": 12,
   "metadata": {},
   "outputs": [
    {
     "data": {
      "text/plain": [
       "y        False\n",
       "col_2    False\n",
       "col_3    False\n",
       "col_4    False\n",
       "col_5    False\n",
       "col_6    False\n",
       "col_7    False\n",
       "col_8    False\n",
       "col_9    False\n",
       "dtype: bool"
      ]
     },
     "execution_count": 12,
     "metadata": {},
     "output_type": "execute_result"
    }
   ],
   "source": [
    "dataset_df.isna().any()"
   ]
  },
  {
   "cell_type": "code",
   "execution_count": 13,
   "metadata": {},
   "outputs": [],
   "source": [
    "# dataset_df['y'] = dataset_df['y'].astype(np.int64)\n",
    "# dataset_df.dtypes"
   ]
  },
  {
   "cell_type": "code",
   "execution_count": 14,
   "metadata": {},
   "outputs": [],
   "source": [
    "# X, y = dataset_df.iloc[:, 1:], dataset_df.iloc[:, 0]\n",
    "# X.dtypes, y.dtypes"
   ]
  },
  {
   "cell_type": "markdown",
   "metadata": {},
   "source": [
    "## 4. (2 балла) Обучите модель логистической регрессии на рассматриваемых данных из библиотеки `sklearn`. Рассчитайте метрики accuracy и выведите таблицу классификации."
   ]
  },
  {
   "cell_type": "code",
   "execution_count": 15,
   "metadata": {},
   "outputs": [],
   "source": [
    "X_train, X_test, y_train, y_test = train_test_split(X, y, test_size=0.35, random_state=1)"
   ]
  },
  {
   "cell_type": "code",
   "execution_count": 16,
   "metadata": {},
   "outputs": [
    {
     "name": "stderr",
     "output_type": "stream",
     "text": [
      "/Library/Frameworks/Python.framework/Versions/3.12/lib/python3.12/site-packages/sklearn/linear_model/_logistic.py:460: ConvergenceWarning: lbfgs failed to converge (status=1):\n",
      "STOP: TOTAL NO. of ITERATIONS REACHED LIMIT.\n",
      "\n",
      "Increase the number of iterations (max_iter) or scale the data as shown in:\n",
      "    https://scikit-learn.org/stable/modules/preprocessing.html\n",
      "Please also refer to the documentation for alternative solver options:\n",
      "    https://scikit-learn.org/stable/modules/linear_model.html#logistic-regression\n",
      "  n_iter_i = _check_optimize_result(\n"
     ]
    }
   ],
   "source": [
    "model_log = LogisticRegression(max_iter=1500)\n",
    "tm1 = time.time()\n",
    "model_log.fit(X_train, y_train)\n",
    "tm = time.time() - tm1\n",
    "y_pred = model_log.predict(X_test)"
   ]
  },
  {
   "cell_type": "code",
   "execution_count": 17,
   "metadata": {},
   "outputs": [
    {
     "data": {
      "text/plain": [
       "1.0"
      ]
     },
     "execution_count": 17,
     "metadata": {},
     "output_type": "execute_result"
    }
   ],
   "source": [
    "ac = metrics.accuracy_score(y_test, y_pred)\n",
    "modeles_comp.loc[modeles_comp.shape[0]] = ['linear', tm, ac]\n",
    "ac"
   ]
  },
  {
   "cell_type": "code",
   "execution_count": 18,
   "metadata": {},
   "outputs": [
    {
     "name": "stdout",
     "output_type": "stream",
     "text": [
      "[[ 9  0  0  0  0  0  0  0  0]\n",
      " [ 0 10  0  0  0  0  0  0  0]\n",
      " [ 0  0 14  0  0  0  0  0  0]\n",
      " [ 0  0  0 14  0  0  0  0  0]\n",
      " [ 0  0  0  0 12  0  0  0  0]\n",
      " [ 0  0  0  0  0 16  0  0  0]\n",
      " [ 0  0  0  0  0  0 14  0  0]\n",
      " [ 0  0  0  0  0  0  0 10  0]\n",
      " [ 0  0  0  0  0  0  0  0 10]]\n"
     ]
    }
   ],
   "source": [
    "print(confusion_matrix(y_test, y_pred))"
   ]
  },
  {
   "cell_type": "code",
   "execution_count": 19,
   "metadata": {},
   "outputs": [
    {
     "name": "stdout",
     "output_type": "stream",
     "text": [
      "              precision    recall  f1-score   support\n",
      "\n",
      "          76       1.00      1.00      1.00         9\n",
      "          77       1.00      1.00      1.00        10\n",
      "          78       1.00      1.00      1.00        14\n",
      "          79       1.00      1.00      1.00        14\n",
      "          80       1.00      1.00      1.00        12\n",
      "          81       1.00      1.00      1.00        16\n",
      "          82       1.00      1.00      1.00        14\n",
      "          83       1.00      1.00      1.00        10\n",
      "          84       1.00      1.00      1.00        10\n",
      "\n",
      "    accuracy                           1.00       109\n",
      "   macro avg       1.00      1.00      1.00       109\n",
      "weighted avg       1.00      1.00      1.00       109\n",
      "\n"
     ]
    }
   ],
   "source": [
    "print(classification_report(y_test, y_pred))"
   ]
  },
  {
   "cell_type": "markdown",
   "metadata": {},
   "source": [
    "## 5. (2 балла) Обучите полиномиальную модель классификации. Рассчитайте метрики accuracy и выведите таблицу классификации. Попробуйте разные степени полинома и выберите ту, которая работает лучше."
   ]
  },
  {
   "cell_type": "code",
   "execution_count": 20,
   "metadata": {},
   "outputs": [
    {
     "name": "stdout",
     "output_type": "stream",
     "text": [
      "Степень: 2 | accuracy_score: 1.0000 | confusion_matrix:\n",
      "\n",
      "[[ 9  0  0  0  0  0  0  0  0]\n",
      " [ 0 10  0  0  0  0  0  0  0]\n",
      " [ 0  0 14  0  0  0  0  0  0]\n",
      " [ 0  0  0 14  0  0  0  0  0]\n",
      " [ 0  0  0  0 12  0  0  0  0]\n",
      " [ 0  0  0  0  0 16  0  0  0]\n",
      " [ 0  0  0  0  0  0 14  0  0]\n",
      " [ 0  0  0  0  0  0  0 10  0]\n",
      " [ 0  0  0  0  0  0  0  0 10]]\n",
      "\n",
      "---------------------------------------------------------------------------\n",
      "Степень: 3 | accuracy_score: 0.9725 | confusion_matrix:\n",
      "\n",
      "[[ 9  0  0  0  0  0  0  0  0]\n",
      " [ 0 10  0  0  0  0  0  0  0]\n",
      " [ 0  0 14  0  0  0  0  0  0]\n",
      " [ 0  0  0 14  0  0  0  0  0]\n",
      " [ 0  0  0  0 11  1  0  0  0]\n",
      " [ 0  0  0  0  0 16  0  0  0]\n",
      " [ 0  0  0  0  0  0 14  0  0]\n",
      " [ 0  0  0  0  0  0  0  8  2]\n",
      " [ 0  0  0  0  0  0  0  0 10]]\n",
      "\n",
      "---------------------------------------------------------------------------\n",
      "Степень: 4 | accuracy_score: 0.9908 | confusion_matrix:\n",
      "\n",
      "[[ 9  0  0  0  0  0  0  0  0]\n",
      " [ 0 10  0  0  0  0  0  0  0]\n",
      " [ 0  0 14  0  0  0  0  0  0]\n",
      " [ 0  0  0 14  0  0  0  0  0]\n",
      " [ 0  0  0  0 11  1  0  0  0]\n",
      " [ 0  0  0  0  0 16  0  0  0]\n",
      " [ 0  0  0  0  0  0 14  0  0]\n",
      " [ 0  0  0  0  0  0  0 10  0]\n",
      " [ 0  0  0  0  0  0  0  0 10]]\n",
      "\n",
      "---------------------------------------------------------------------------\n",
      "Степень: 5 | accuracy_score: 0.9908 | confusion_matrix:\n",
      "\n",
      "[[ 9  0  0  0  0  0  0  0  0]\n",
      " [ 0 10  0  0  0  0  0  0  0]\n",
      " [ 0  0 14  0  0  0  0  0  0]\n",
      " [ 0  0  0 14  0  0  0  0  0]\n",
      " [ 0  0  0  0 11  1  0  0  0]\n",
      " [ 0  0  0  0  0 16  0  0  0]\n",
      " [ 0  0  0  0  0  0 14  0  0]\n",
      " [ 0  0  0  0  0  0  0 10  0]\n",
      " [ 0  0  0  0  0  0  0  0 10]]\n",
      "\n",
      "---------------------------------------------------------------------------\n"
     ]
    }
   ],
   "source": [
    "degrees = list(range(2, 6))\n",
    "for degree in degrees:\n",
    "    poly = PolynomialFeatures(degree=degree)\n",
    "    X_train_poly = poly.fit_transform(X_train)\n",
    "    X_test_poly = poly.transform(X_test)\n",
    "\n",
    "    model_log = LogisticRegression(max_iter=25000)\n",
    "    \n",
    "    tm1 = time.time()\n",
    "    model_log.fit(X_train_poly, y_train)\n",
    "    tm = time.time() - tm1\n",
    "    \n",
    "    y_pred = model_log.predict(X_test_poly)\n",
    "    \n",
    "    accuracy_score = metrics.accuracy_score(y_test, y_pred)\n",
    "    \n",
    "    modeles_comp.loc[modeles_comp.shape[0]] = [f'poly {degree}', tm, accuracy_score]\n",
    "    \n",
    "    print(f'Степень: {degree} | accuracy_score: {accuracy_score:.4f} | confusion_matrix:\\n')\n",
    "    print(confusion_matrix(y_test, y_pred), end='\\n'*2+'-'*75+'\\n')"
   ]
  },
  {
   "cell_type": "markdown",
   "metadata": {},
   "source": [
    "#### 2 степень оказалась лучше по аккуратности в данном тесте"
   ]
  },
  {
   "cell_type": "markdown",
   "metadata": {},
   "source": [
    "### 6. (2 балла) Обучите модель классификации по методу опорных векторов. Рассчитайте метрики accuracy и выведите таблицу классификации. Попробуйте разные ядерные функции и выберите ту, которая работает лучше."
   ]
  },
  {
   "cell_type": "code",
   "execution_count": 21,
   "metadata": {},
   "outputs": [
    {
     "name": "stdout",
     "output_type": "stream",
     "text": [
      "Ядро: linear, accuracy_score: 1.0000\n",
      "\n",
      "[[ 9  0  0  0  0  0  0  0  0]\n",
      " [ 0 10  0  0  0  0  0  0  0]\n",
      " [ 0  0 14  0  0  0  0  0  0]\n",
      " [ 0  0  0 14  0  0  0  0  0]\n",
      " [ 0  0  0  0 12  0  0  0  0]\n",
      " [ 0  0  0  0  0 16  0  0  0]\n",
      " [ 0  0  0  0  0  0 14  0  0]\n",
      " [ 0  0  0  0  0  0  0 10  0]\n",
      " [ 0  0  0  0  0  0  0  0 10]]\n",
      "\n",
      "---------------------------------------------------------------------------\n",
      "Ядро: poly, accuracy_score: 0.7064\n",
      "\n",
      "[[ 0  9  0  0  0  0  0  0  0]\n",
      " [ 0 10  0  0  0  0  0  0  0]\n",
      " [ 0 14  0  0  0  0  0  0  0]\n",
      " [ 0  2  0 12  0  0  0  0  0]\n",
      " [ 0  0  0  2 10  0  0  0  0]\n",
      " [ 0  0  0  0  0 16  0  0  0]\n",
      " [ 0  0  0  0  0  2 12  0  0]\n",
      " [ 0  0  0  0  0  0  2  8  0]\n",
      " [ 0  0  0  0  0  0  0  1  9]]\n",
      "\n",
      "---------------------------------------------------------------------------\n",
      "Ядро: rbf, accuracy_score: 0.5688\n",
      "\n",
      "[[ 0  9  0  0  0  0  0  0  0]\n",
      " [ 0 10  0  0  0  0  0  0  0]\n",
      " [ 0 14  0  0  0  0  0  0  0]\n",
      " [ 0  3  0  9  2  0  0  0  0]\n",
      " [ 0  0  0  0 12  0  0  0  0]\n",
      " [ 0  0  0  0 10  0  6  0  0]\n",
      " [ 0  0  0  0  0  0 14  0  0]\n",
      " [ 0  0  0  0  0  0  0 10  0]\n",
      " [ 0  0  0  0  0  0  0  3  7]]\n",
      "\n",
      "---------------------------------------------------------------------------\n",
      "Ядро: sigmoid, accuracy_score: 0.0917\n",
      "\n",
      "[[ 0  9  0  0  0  0  0  0  0]\n",
      " [ 0 10  0  0  0  0  0  0  0]\n",
      " [ 0 14  0  0  0  0  0  0  0]\n",
      " [ 0 14  0  0  0  0  0  0  0]\n",
      " [ 0 12  0  0  0  0  0  0  0]\n",
      " [ 0 16  0  0  0  0  0  0  0]\n",
      " [ 0 14  0  0  0  0  0  0  0]\n",
      " [ 0 10  0  0  0  0  0  0  0]\n",
      " [ 0 10  0  0  0  0  0  0  0]]\n",
      "\n",
      "---------------------------------------------------------------------------\n"
     ]
    }
   ],
   "source": [
    "kernels = ['linear', 'poly', 'rbf', 'sigmoid']\n",
    "for kernel in kernels:\n",
    "    model_svm = SVC(kernel=kernel)\n",
    "    \n",
    "    tm1 = time.time()\n",
    "    model_svm.fit(X_train, y_train)\n",
    "    tm = time.time() - tm1\n",
    "    \n",
    "    y_pred = model_svm.predict(X_test)\n",
    "    \n",
    "    accuracy = metrics.accuracy_score(y_test, y_pred)\n",
    "    \n",
    "    modeles_comp.loc[modeles_comp.shape[0]] = [f'svc {kernel}', tm, accuracy]\n",
    "    \n",
    "    print(f'Ядро: {kernel}, accuracy_score: {accuracy:.4f}\\n')\n",
    "    print(confusion_matrix(y_test, y_pred), end='\\n'*2+'-'*75+'\\n')"
   ]
  },
  {
   "cell_type": "markdown",
   "metadata": {},
   "source": [
    "#### Метод опорных векторов с ялинейным ядром показал себя лучше всех"
   ]
  },
  {
   "cell_type": "markdown",
   "metadata": {},
   "source": [
    "## 7. (1 балл) Обучите модель классификации Перцептрон. Рассчитайте метрики accuracy и выведите таблицу классификации."
   ]
  },
  {
   "cell_type": "code",
   "execution_count": 22,
   "metadata": {},
   "outputs": [
    {
     "data": {
      "text/plain": [
       "0.3486238532110092"
      ]
     },
     "execution_count": 22,
     "metadata": {},
     "output_type": "execute_result"
    }
   ],
   "source": [
    "model_mlp = MLPClassifier(random_state=35)\n",
    "\n",
    "tm1 = time.time()\n",
    "model_mlp.fit(X_train, y_train)\n",
    "tm = time.time() - tm1\n",
    "\n",
    "y_pred = model_mlp.predict(X_test)\n",
    "\n",
    "ac = metrics.accuracy_score(y_test, y_pred)\n",
    "\n",
    "modeles_comp.loc[modeles_comp.shape[0]] = ['mlp', tm, ac]\n",
    "\n",
    "ac"
   ]
  },
  {
   "cell_type": "code",
   "execution_count": 23,
   "metadata": {},
   "outputs": [
    {
     "name": "stdout",
     "output_type": "stream",
     "text": [
      "[[ 0  9  0  0  0  0  0  0  0]\n",
      " [ 0 10  0  0  0  0  0  0  0]\n",
      " [ 0  7  7  0  0  0  0  0  0]\n",
      " [ 0  2  0  0  0  0 12  0  0]\n",
      " [ 0  0  0  0  0  0 12  0  0]\n",
      " [ 0  0  0  0  0  0 16  0  0]\n",
      " [ 0  0  0  0  0  0 14  0  0]\n",
      " [ 0  0  0  0  0  0 10  0  0]\n",
      " [ 0  0  0  0  0  0  3  0  7]]\n"
     ]
    }
   ],
   "source": [
    "print(confusion_matrix(y_test, y_pred))"
   ]
  },
  {
   "cell_type": "markdown",
   "metadata": {},
   "source": [
    "## 8. (2 балла) Выведите итоговую таблицу сравнения всех моделей. В таблице должна быть информация о эффективности и времени обучения каждой модели. Сделайте вывод о применимости и эффективности моделей для классификации объектов в данной задаче."
   ]
  },
  {
   "cell_type": "code",
   "execution_count": 24,
   "metadata": {},
   "outputs": [
    {
     "data": {
      "text/html": [
       "<div>\n",
       "<style scoped>\n",
       "    .dataframe tbody tr th:only-of-type {\n",
       "        vertical-align: middle;\n",
       "    }\n",
       "\n",
       "    .dataframe tbody tr th {\n",
       "        vertical-align: top;\n",
       "    }\n",
       "\n",
       "    .dataframe thead th {\n",
       "        text-align: right;\n",
       "    }\n",
       "</style>\n",
       "<table border=\"1\" class=\"dataframe\">\n",
       "  <thead>\n",
       "    <tr style=\"text-align: right;\">\n",
       "      <th></th>\n",
       "      <th>Модель</th>\n",
       "      <th>Время</th>\n",
       "      <th>Точнось</th>\n",
       "    </tr>\n",
       "  </thead>\n",
       "  <tbody>\n",
       "    <tr>\n",
       "      <th>0</th>\n",
       "      <td>linear</td>\n",
       "      <td>0.082401</td>\n",
       "      <td>1.000000</td>\n",
       "    </tr>\n",
       "    <tr>\n",
       "      <th>1</th>\n",
       "      <td>poly 2</td>\n",
       "      <td>0.122438</td>\n",
       "      <td>1.000000</td>\n",
       "    </tr>\n",
       "    <tr>\n",
       "      <th>2</th>\n",
       "      <td>poly 3</td>\n",
       "      <td>0.131543</td>\n",
       "      <td>0.972477</td>\n",
       "    </tr>\n",
       "    <tr>\n",
       "      <th>3</th>\n",
       "      <td>poly 4</td>\n",
       "      <td>0.141396</td>\n",
       "      <td>0.990826</td>\n",
       "    </tr>\n",
       "    <tr>\n",
       "      <th>4</th>\n",
       "      <td>poly 5</td>\n",
       "      <td>0.687149</td>\n",
       "      <td>0.990826</td>\n",
       "    </tr>\n",
       "    <tr>\n",
       "      <th>5</th>\n",
       "      <td>svc linear</td>\n",
       "      <td>0.007605</td>\n",
       "      <td>1.000000</td>\n",
       "    </tr>\n",
       "    <tr>\n",
       "      <th>6</th>\n",
       "      <td>svc poly</td>\n",
       "      <td>0.002665</td>\n",
       "      <td>0.706422</td>\n",
       "    </tr>\n",
       "    <tr>\n",
       "      <th>7</th>\n",
       "      <td>svc rbf</td>\n",
       "      <td>0.005006</td>\n",
       "      <td>0.568807</td>\n",
       "    </tr>\n",
       "    <tr>\n",
       "      <th>8</th>\n",
       "      <td>svc sigmoid</td>\n",
       "      <td>0.003811</td>\n",
       "      <td>0.091743</td>\n",
       "    </tr>\n",
       "    <tr>\n",
       "      <th>9</th>\n",
       "      <td>mlp</td>\n",
       "      <td>0.027200</td>\n",
       "      <td>0.348624</td>\n",
       "    </tr>\n",
       "  </tbody>\n",
       "</table>\n",
       "</div>"
      ],
      "text/plain": [
       "        Модель     Время   Точнось\n",
       "0       linear  0.082401  1.000000\n",
       "1       poly 2  0.122438  1.000000\n",
       "2       poly 3  0.131543  0.972477\n",
       "3       poly 4  0.141396  0.990826\n",
       "4       poly 5  0.687149  0.990826\n",
       "5   svc linear  0.007605  1.000000\n",
       "6     svc poly  0.002665  0.706422\n",
       "7      svc rbf  0.005006  0.568807\n",
       "8  svc sigmoid  0.003811  0.091743\n",
       "9          mlp  0.027200  0.348624"
      ]
     },
     "execution_count": 24,
     "metadata": {},
     "output_type": "execute_result"
    }
   ],
   "source": [
    "modeles_comp"
   ]
  },
  {
   "cell_type": "code",
   "execution_count": 25,
   "metadata": {},
   "outputs": [
    {
     "data": {
      "text/html": [
       "<div>\n",
       "<style scoped>\n",
       "    .dataframe tbody tr th:only-of-type {\n",
       "        vertical-align: middle;\n",
       "    }\n",
       "\n",
       "    .dataframe tbody tr th {\n",
       "        vertical-align: top;\n",
       "    }\n",
       "\n",
       "    .dataframe thead th {\n",
       "        text-align: right;\n",
       "    }\n",
       "</style>\n",
       "<table border=\"1\" class=\"dataframe\">\n",
       "  <thead>\n",
       "    <tr style=\"text-align: right;\">\n",
       "      <th></th>\n",
       "      <th>Модель</th>\n",
       "      <th>Время</th>\n",
       "      <th>Точнось</th>\n",
       "    </tr>\n",
       "  </thead>\n",
       "  <tbody>\n",
       "    <tr>\n",
       "      <th>5</th>\n",
       "      <td>svc linear</td>\n",
       "      <td>0.007605</td>\n",
       "      <td>1.000000</td>\n",
       "    </tr>\n",
       "    <tr>\n",
       "      <th>0</th>\n",
       "      <td>linear</td>\n",
       "      <td>0.082401</td>\n",
       "      <td>1.000000</td>\n",
       "    </tr>\n",
       "    <tr>\n",
       "      <th>1</th>\n",
       "      <td>poly 2</td>\n",
       "      <td>0.122438</td>\n",
       "      <td>1.000000</td>\n",
       "    </tr>\n",
       "    <tr>\n",
       "      <th>3</th>\n",
       "      <td>poly 4</td>\n",
       "      <td>0.141396</td>\n",
       "      <td>0.990826</td>\n",
       "    </tr>\n",
       "    <tr>\n",
       "      <th>4</th>\n",
       "      <td>poly 5</td>\n",
       "      <td>0.687149</td>\n",
       "      <td>0.990826</td>\n",
       "    </tr>\n",
       "    <tr>\n",
       "      <th>2</th>\n",
       "      <td>poly 3</td>\n",
       "      <td>0.131543</td>\n",
       "      <td>0.972477</td>\n",
       "    </tr>\n",
       "    <tr>\n",
       "      <th>6</th>\n",
       "      <td>svc poly</td>\n",
       "      <td>0.002665</td>\n",
       "      <td>0.706422</td>\n",
       "    </tr>\n",
       "    <tr>\n",
       "      <th>7</th>\n",
       "      <td>svc rbf</td>\n",
       "      <td>0.005006</td>\n",
       "      <td>0.568807</td>\n",
       "    </tr>\n",
       "    <tr>\n",
       "      <th>9</th>\n",
       "      <td>mlp</td>\n",
       "      <td>0.027200</td>\n",
       "      <td>0.348624</td>\n",
       "    </tr>\n",
       "    <tr>\n",
       "      <th>8</th>\n",
       "      <td>svc sigmoid</td>\n",
       "      <td>0.003811</td>\n",
       "      <td>0.091743</td>\n",
       "    </tr>\n",
       "  </tbody>\n",
       "</table>\n",
       "</div>"
      ],
      "text/plain": [
       "        Модель     Время   Точнось\n",
       "5   svc linear  0.007605  1.000000\n",
       "0       linear  0.082401  1.000000\n",
       "1       poly 2  0.122438  1.000000\n",
       "3       poly 4  0.141396  0.990826\n",
       "4       poly 5  0.687149  0.990826\n",
       "2       poly 3  0.131543  0.972477\n",
       "6     svc poly  0.002665  0.706422\n",
       "7      svc rbf  0.005006  0.568807\n",
       "9          mlp  0.027200  0.348624\n",
       "8  svc sigmoid  0.003811  0.091743"
      ]
     },
     "execution_count": 25,
     "metadata": {},
     "output_type": "execute_result"
    }
   ],
   "source": [
    "modeles_comp.sort_values(['Точнось', 'Время'], ascending=[False, True])"
   ]
  },
  {
   "cell_type": "markdown",
   "metadata": {},
   "source": [
    "#### Вывод: Линейная модель довольно хорошо показала себя судя по точности, а так же и по времени т. к. она является самой примитивной моделью, что позовляет ей обучаться быстрее всех. Но победителем вышел Метод Опорных Векторов с линейным ядром, т. к. время обучения у него куда меньше. Остальные модели не особо хорошо показали себя на моих данных."
   ]
  }
 ],
 "metadata": {
  "kernelspec": {
   "display_name": "Python 3",
   "language": "python",
   "name": "python3"
  },
  "language_info": {
   "codemirror_mode": {
    "name": "ipython",
    "version": 3
   },
   "file_extension": ".py",
   "mimetype": "text/x-python",
   "name": "python",
   "nbconvert_exporter": "python",
   "pygments_lexer": "ipython3",
   "version": "3.12.0"
  }
 },
 "nbformat": 4,
 "nbformat_minor": 2
}
